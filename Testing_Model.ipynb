{
  "nbformat": 4,
  "nbformat_minor": 0,
  "metadata": {
    "colab": {
      "provenance": [],
      "gpuType": "T4",
      "authorship_tag": "ABX9TyNaX/z15bBnhylRyUnrC999",
      "include_colab_link": true
    },
    "kernelspec": {
      "name": "python3",
      "display_name": "Python 3"
    },
    "language_info": {
      "name": "python"
    },
    "accelerator": "GPU"
  },
  "cells": [
    {
      "cell_type": "markdown",
      "metadata": {
        "id": "view-in-github",
        "colab_type": "text"
      },
      "source": [
        "<a href=\"https://colab.research.google.com/github/KushangShah/Image-Classification-using-ML/blob/main/Testing_Model.ipynb\" target=\"_parent\"><img src=\"https://colab.research.google.com/assets/colab-badge.svg\" alt=\"Open In Colab\"/></a>"
      ]
    },
    {
      "cell_type": "markdown",
      "source": [
        "testing the model"
      ],
      "metadata": {
        "id": "WD1k_4T8pWBW"
      }
    },
    {
      "cell_type": "code",
      "source": [
        "import tensorflow as tf\n",
        "from tensorflow import keras\n",
        "import numpy as np\n",
        "from PIL import Image\n",
        "import io"
      ],
      "metadata": {
        "id": "Lx7nxHCMnOhi"
      },
      "execution_count": 3,
      "outputs": []
    },
    {
      "cell_type": "code",
      "execution_count": 7,
      "metadata": {
        "id": "m_3GCgK0qhgE",
        "colab": {
          "base_uri": "https://localhost:8080/"
        },
        "outputId": "8e24c416-edef-4fe2-ac17-b5a584dadd6a"
      },
      "outputs": [
        {
          "output_type": "stream",
          "name": "stdout",
          "text": [
            "\u001b[1m1/1\u001b[0m \u001b[32m━━━━━━━━━━━━━━━━━━━━\u001b[0m\u001b[37m\u001b[0m \u001b[1m0s\u001b[0m 253ms/step\n",
            "{'class': 'Cat', 'confidence': 0.014984313398599625}\n",
            "\u001b[1m1/1\u001b[0m \u001b[32m━━━━━━━━━━━━━━━━━━━━\u001b[0m\u001b[37m\u001b[0m \u001b[1m0s\u001b[0m 29ms/step\n",
            "{'class': 'Dog', 'confidence': 0.9883279204368591}\n"
          ]
        }
      ],
      "source": [
        "# Load the pre-trained model\n",
        "model = keras.models.load_model(\"/content/CatDogImageClassification.keras\")  # Update with your model path\n",
        "\n",
        "# Define function to preprocess image\n",
        "def preprocess_image(image_bytes):\n",
        "  image = Image.open(io.BytesIO(image_bytes)).convert(\"RGB\")\n",
        "  image = image.resize((150, 150))  # Adjust to match your model input size\n",
        "  image = np.array(image) / 255.0\n",
        "  image = np.expand_dims(image, axis=0)\n",
        "  return image\n",
        "\n",
        "# Define function to make predictions\n",
        "def predict(image_bytes):\n",
        "  image = preprocess_image(image_bytes)\n",
        "  prediction = model.predict(image)\n",
        "  class_names = [\"Cat\", \"Dog\"]\n",
        "  # predicted_class = class_names[int(prediction[0] > 0.5)]\n",
        "  # confidence = float(prediction[0])\n",
        "  predicted_class = class_names[int(prediction[0][0] > 0.5)]\n",
        "  confidence = float(prediction[0][0])\n",
        "  return {\"class\": predicted_class, \"confidence\": confidence}\n",
        "\n",
        "# Test the function\n",
        "with open(\"/content/blue eyes.jpg\", \"rb\") as f:\n",
        "  print(predict(f.read()))\n",
        "with open(\"/content/We Love Canines.jpg\", \"rb\") as f:\n",
        "  print(predict(f.read()))\n"
      ]
    }
  ]
}