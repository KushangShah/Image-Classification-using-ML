{
  "nbformat": 4,
  "nbformat_minor": 0,
  "metadata": {
    "colab": {
      "provenance": [],
      "gpuType": "T4",
      "authorship_tag": "ABX9TyNFu8XceREgETTp5cyezpD+",
      "include_colab_link": true
    },
    "kernelspec": {
      "name": "python3",
      "display_name": "Python 3"
    },
    "language_info": {
      "name": "python"
    },
    "accelerator": "GPU"
  },
  "cells": [
    {
      "cell_type": "markdown",
      "metadata": {
        "id": "view-in-github",
        "colab_type": "text"
      },
      "source": [
        "<a href=\"https://colab.research.google.com/github/KushangShah/Image-Classification-using-ML/blob/main/Testing_Model.ipynb\" target=\"_parent\"><img src=\"https://colab.research.google.com/assets/colab-badge.svg\" alt=\"Open In Colab\"/></a>"
      ]
    },
    {
      "cell_type": "code",
      "source": [
        "import tensorflow as tf\n",
        "from tensorflow import keras\n",
        "import numpy as np\n",
        "from PIL import Image\n",
        "import io"
      ],
      "metadata": {
        "id": "Lx7nxHCMnOhi"
      },
      "execution_count": 3,
      "outputs": []
    },
    {
      "cell_type": "code",
      "execution_count": 6,
      "metadata": {
        "id": "m_3GCgK0qhgE",
        "colab": {
          "base_uri": "https://localhost:8080/"
        },
        "outputId": "5524544b-16f6-401d-8ef7-e3ec6c684896"
      },
      "outputs": [
        {
          "output_type": "stream",
          "name": "stdout",
          "text": [
            "\u001b[1m1/1\u001b[0m \u001b[32m━━━━━━━━━━━━━━━━━━━━\u001b[0m\u001b[37m\u001b[0m \u001b[1m0s\u001b[0m 260ms/step\n",
            "{'class': 'Cat', 'confidence': 0.014984313398599625}\n",
            "\u001b[1m1/1\u001b[0m \u001b[32m━━━━━━━━━━━━━━━━━━━━\u001b[0m\u001b[37m\u001b[0m \u001b[1m0s\u001b[0m 41ms/step\n",
            "{'class': 'Dog', 'confidence': 0.9883279204368591}\n"
          ]
        },
        {
          "output_type": "stream",
          "name": "stderr",
          "text": [
            "<ipython-input-6-0b136d6cb14a>:17: DeprecationWarning: Conversion of an array with ndim > 0 to a scalar is deprecated, and will error in future. Ensure you extract a single element from your array before performing this operation. (Deprecated NumPy 1.25.)\n",
            "  predicted_class = class_names[int(prediction[0] > 0.5)]\n",
            "<ipython-input-6-0b136d6cb14a>:18: DeprecationWarning: Conversion of an array with ndim > 0 to a scalar is deprecated, and will error in future. Ensure you extract a single element from your array before performing this operation. (Deprecated NumPy 1.25.)\n",
            "  confidence = float(prediction[0])\n"
          ]
        }
      ],
      "source": [
        "# Load the pre-trained model\n",
        "model = keras.models.load_model(\"/content/CatDogImageClassification.keras\")  # Update with your model path\n",
        "\n",
        "# Define function to preprocess image\n",
        "def preprocess_image(image_bytes):\n",
        "    image = Image.open(io.BytesIO(image_bytes)).convert(\"RGB\")\n",
        "    image = image.resize((150, 150))  # Adjust to match your model input size\n",
        "    image = np.array(image) / 255.0\n",
        "    image = np.expand_dims(image, axis=0)\n",
        "    return image\n",
        "\n",
        "# Define function to make predictions\n",
        "def predict(image_bytes):\n",
        "    image = preprocess_image(image_bytes)\n",
        "    prediction = model.predict(image)\n",
        "    class_names = [\"Cat\", \"Dog\"]\n",
        "    predicted_class = class_names[int(prediction[0] > 0.5)]\n",
        "    confidence = float(prediction[0])\n",
        "    return {\"class\": predicted_class, \"confidence\": confidence}\n",
        "\n",
        "# Test the function\n",
        "with open(\"/content/blue eyes.jpg\", \"rb\") as f:\n",
        "  print(predict(f.read()))\n",
        "with open(\"/content/We Love Canines.jpg\", \"rb\") as f:\n",
        "  print(predict(f.read()))\n"
      ]
    },
    {
      "cell_type": "code",
      "source": [],
      "metadata": {
        "id": "vr8IuJHUnEWn"
      },
      "execution_count": null,
      "outputs": []
    }
  ]
}