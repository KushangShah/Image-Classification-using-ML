{
  "cells": [
    {
      "cell_type": "markdown",
      "metadata": {
        "id": "view-in-github",
        "colab_type": "text"
      },
      "source": [
        "<a href=\"https://colab.research.google.com/github/KushangShah/Image-Classification-using-ML/blob/main/main.ipynb\" target=\"_parent\"><img src=\"https://colab.research.google.com/assets/colab-badge.svg\" alt=\"Open In Colab\"/></a>"
      ]
    },
    {
      "cell_type": "code",
      "source": [
        "import kagglehub\n",
        "\n",
        "# Download latest version\n",
        "path = kagglehub.dataset_download(\"salader/dogs-vs-cats\")\n",
        "\n",
        "print(\"Path to dataset files:\", path)"
      ],
      "metadata": {
        "id": "AywcCBiY8nmn",
        "outputId": "99eef766-c067-4cf5-d432-84349d082b37",
        "colab": {
          "base_uri": "https://localhost:8080/"
        }
      },
      "execution_count": 3,
      "outputs": [
        {
          "output_type": "stream",
          "name": "stdout",
          "text": [
            "Path to dataset files: /root/.cache/kagglehub/datasets/salader/dogs-vs-cats/versions/1\n"
          ]
        }
      ]
    },
    {
      "cell_type": "code",
      "source": [
        "!ls -lah ~/datasets/dogs-vs-cats\n"
      ],
      "metadata": {
        "id": "fmb-PVHGAqBe",
        "outputId": "b56bf982-4689-4756-8a04-3f0f463af737",
        "colab": {
          "base_uri": "https://localhost:8080/"
        }
      },
      "execution_count": 12,
      "outputs": [
        {
          "output_type": "stream",
          "name": "stdout",
          "text": [
            "total 20K\n",
            "drwxr-xr-x 5 root root 4.0K Mar 14 09:28 .\n",
            "drwxr-xr-x 3 root root 4.0K Mar 14 09:34 ..\n",
            "drwxr-xr-x 4 root root 4.0K Mar 14 09:28 dogs_vs_cats\n",
            "drwxr-xr-x 4 root root 4.0K Mar 14 09:28 test\n",
            "drwxr-xr-x 4 root root 4.0K Mar 14 09:28 train\n"
          ]
        }
      ]
    },
    {
      "cell_type": "code",
      "source": [
        "!mv ~/datasets/dogs-vs-cats /content/datasets/dogs-vs-cats"
      ],
      "metadata": {
        "id": "K_BXs5rpAuDC",
        "outputId": "a04d9fe3-af6c-4d44-e830-0a1575c9e69b",
        "colab": {
          "base_uri": "https://localhost:8080/"
        }
      },
      "execution_count": 13,
      "outputs": [
        {
          "output_type": "stream",
          "name": "stdout",
          "text": [
            "mv: cannot move '/root/datasets/dogs-vs-cats' to '/content/datasets/dogs-vs-cats': No such file or directory\n"
          ]
        }
      ]
    },
    {
      "cell_type": "code",
      "source": [
        "import tensorflow as tf\n",
        "from tensorflow.keras.preprocessing.image import ImageDataGenerator\n",
        "import os"
      ],
      "metadata": {
        "id": "37OBdXeXAwTn"
      },
      "execution_count": 14,
      "outputs": []
    },
    {
      "cell_type": "code",
      "source": [],
      "metadata": {
        "id": "0uadyYtwAy0Q"
      },
      "execution_count": null,
      "outputs": []
    }
  ],
  "metadata": {
    "kernelspec": {
      "display_name": "venv",
      "language": "python",
      "name": "python3"
    },
    "language_info": {
      "codemirror_mode": {
        "name": "ipython",
        "version": 3
      },
      "file_extension": ".py",
      "mimetype": "text/x-python",
      "name": "python",
      "nbconvert_exporter": "python",
      "pygments_lexer": "ipython3",
      "version": "3.13.1"
    },
    "colab": {
      "provenance": [],
      "include_colab_link": true
    }
  },
  "nbformat": 4,
  "nbformat_minor": 0
}